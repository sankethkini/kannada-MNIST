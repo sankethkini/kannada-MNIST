{
  "nbformat": 4,
  "nbformat_minor": 0,
  "metadata": {
    "colab": {
      "name": "kannada-mnsit.ipynb",
      "provenance": [],
      "collapsed_sections": [],
      "mount_file_id": "1KRQTZ-n8KmfYFFD76aH7PwKqFHoWGbXt",
      "authorship_tag": "ABX9TyOvyyLUzZn3FGdLRkpXPry7",
      "include_colab_link": true
    },
    "kernelspec": {
      "name": "python3",
      "display_name": "Python 3"
    },
    "accelerator": "GPU"
  },
  "cells": [
    {
      "cell_type": "markdown",
      "metadata": {
        "id": "view-in-github",
        "colab_type": "text"
      },
      "source": [
        "<a href=\"https://colab.research.google.com/github/sankethsolo/kannada-MNIST/blob/master/kannada_mnist.ipynb\" target=\"_parent\"><img src=\"https://colab.research.google.com/assets/colab-badge.svg\" alt=\"Open In Colab\"/></a>"
      ]
    },
    {
      "cell_type": "code",
      "metadata": {
        "id": "bpqP_grnKy5k",
        "colab_type": "code",
        "outputId": "a8b562ce-ba4e-4cb7-a784-7e5584a0e4a5",
        "colab": {
          "base_uri": "https://localhost:8080/",
          "height": 34
        }
      },
      "source": [
        "from google.colab import drive\n",
        "drive.mount('/content/drive')"
      ],
      "execution_count": 1,
      "outputs": [
        {
          "output_type": "stream",
          "text": [
            "Drive already mounted at /content/drive; to attempt to forcibly remount, call drive.mount(\"/content/drive\", force_remount=True).\n"
          ],
          "name": "stdout"
        }
      ]
    },
    {
      "cell_type": "code",
      "metadata": {
        "id": "UofzoHOy9h4J",
        "colab_type": "code",
        "colab": {
          "base_uri": "https://localhost:8080/",
          "height": 34
        },
        "outputId": "c09dad2a-e8db-4ea4-9430-0aea390c9540"
      },
      "source": [
        "import pandas as pd\n",
        "import numpy as np\n",
        "import matplotlib.pyplot as plt\n",
        "\n",
        "import keras\n",
        "from keras.models import Sequential\n",
        "from keras.layers import Conv2D, Dropout, Dense, Flatten, BatchNormalization, MaxPooling2D\n",
        "from keras.optimizers import RMSprop\n",
        "from tensorflow.keras.preprocessing.image import ImageDataGenerator\n",
        "from tensorflow.keras.callbacks import ReduceLROnPlateau, EarlyStopping\n",
        "from keras.utils.np_utils import to_categorical\n",
        "\n",
        "from sklearn.model_selection import train_test_split"
      ],
      "execution_count": 2,
      "outputs": [
        {
          "output_type": "stream",
          "text": [
            "Using TensorFlow backend.\n"
          ],
          "name": "stderr"
        }
      ]
    },
    {
      "cell_type": "code",
      "metadata": {
        "id": "_8jjiIpd_Sva",
        "colab_type": "code",
        "colab": {}
      },
      "source": [
        "Dig_MNIST = pd.read_csv(\"drive/My Drive/Dig-MNIST.csv\")\n",
        "train = pd.read_csv(\"drive/My Drive/train.csv\")"
      ],
      "execution_count": 0,
      "outputs": []
    },
    {
      "cell_type": "code",
      "metadata": {
        "id": "80i5yIel_XDo",
        "colab_type": "code",
        "colab": {}
      },
      "source": [
        "# Split the data\n",
        "x = train.iloc[:,1:].values\n",
        "y = train.iloc[:,0].values\n",
        "y[:10]\n",
        "\n",
        "x_dig = Dig_MNIST.drop('label', axis=1).iloc[:,:].values\n",
        "y_dig = Dig_MNIST.label\n"
      ],
      "execution_count": 0,
      "outputs": []
    },
    {
      "cell_type": "code",
      "metadata": {
        "id": "zPN4RcebN3Ma",
        "colab_type": "code",
        "outputId": "87115068-a7d7-4469-ab0f-08728e37b34d",
        "colab": {
          "base_uri": "https://localhost:8080/",
          "height": 34
        }
      },
      "source": [
        "x.shape"
      ],
      "execution_count": 5,
      "outputs": [
        {
          "output_type": "execute_result",
          "data": {
            "text/plain": [
              "(60000, 784)"
            ]
          },
          "metadata": {
            "tags": []
          },
          "execution_count": 5
        }
      ]
    },
    {
      "cell_type": "code",
      "metadata": {
        "id": "D7MFi72L_j5Q",
        "colab_type": "code",
        "colab": {}
      },
      "source": [
        "# Reshape the data\n",
        "x = x.reshape(x.shape[0], 28, 28, 1)\n",
        "y = to_categorical(y, 10)\n",
        "x_dig = x_dig.reshape(x_dig.shape[0], 28, 28, 1)\n"
      ],
      "execution_count": 0,
      "outputs": []
    },
    {
      "cell_type": "code",
      "metadata": {
        "id": "pOjMNi7N_oxo",
        "colab_type": "code",
        "colab": {}
      },
      "source": [
        "# Split the data between train and test\n",
        "x_train, x_valid, y_train, y_valid = train_test_split(x, y, test_size = 0.10, random_state=42) "
      ],
      "execution_count": 0,
      "outputs": []
    },
    {
      "cell_type": "code",
      "metadata": {
        "id": "L9QCLYOv_r-j",
        "colab_type": "code",
        "colab": {}
      },
      "source": [
        "# Artificially increase training set\n",
        "train_datagen = ImageDataGenerator(rescale=1./255.,\n",
        "                                   rotation_range=10,\n",
        "                                   width_shift_range=0.25,\n",
        "                                   height_shift_range=0.25,\n",
        "                                   shear_range=0.1,\n",
        "                                   zoom_range=0.25,\n",
        "                                   horizontal_flip=False)\n",
        "\n",
        "valid_datagen = ImageDataGenerator(rescale=1./255.)"
      ],
      "execution_count": 0,
      "outputs": []
    },
    {
      "cell_type": "code",
      "metadata": {
        "id": "jMXjAdDe_vvn",
        "colab_type": "code",
        "outputId": "ce201d42-8e6b-43c2-83c2-d5f2c9b31034",
        "colab": {
          "base_uri": "https://localhost:8080/",
          "height": 1000
        }
      },
      "source": [
        "batch_size = 1024\n",
        "num_classes = 10\n",
        "epochs = 50\n",
        "learning_rate = 0.001\n",
        "model_name = 'k-mnist_trained_model.h5'\n",
        "\n",
        "model = Sequential()\n",
        "\n",
        "model.add(Conv2D(64, kernel_size=3, activation='relu', input_shape=(28, 28, 1)))\n",
        "model.add(BatchNormalization())\n",
        "model.add(Conv2D(64, kernel_size=3, activation='relu'))\n",
        "model.add(BatchNormalization())\n",
        "model.add(Conv2D(64, kernel_size=5, padding='same', activation='relu'))\n",
        "model.add(BatchNormalization())\n",
        "model.add(MaxPooling2D(pool_size=(2, 2)))\n",
        "model.add(Dropout(0.2))\n",
        "\n",
        "model.add(Conv2D(128, kernel_size=3, activation='relu'))\n",
        "model.add(BatchNormalization())\n",
        "model.add(Conv2D(128, kernel_size=3, activation='relu'))\n",
        "model.add(BatchNormalization())\n",
        "model.add(Conv2D(128, kernel_size=5, padding='same', activation='relu'))\n",
        "model.add(BatchNormalization())\n",
        "model.add(MaxPooling2D(pool_size=(2, 2)))\n",
        "model.add(Dropout(0.2))\n",
        "\n",
        "model.add(Conv2D(256, kernel_size=3, activation='relu'))\n",
        "model.add(BatchNormalization())\n",
        "model.add(MaxPooling2D(pool_size=(2, 2)))\n",
        "model.add(Dropout(0.2))\n",
        "\n",
        "model.add(Flatten())\n",
        "model.add(Dense(256))\n",
        "model.add(BatchNormalization())\n",
        "model.add(Dense(128))\n",
        "model.add(BatchNormalization())\n",
        "model.add(Dense(10, activation='softmax'))\n",
        "\n",
        "model.summary()\n",
        "\n",
        "optimizer = RMSprop(lr=learning_rate)\n",
        "\n",
        "model.compile(loss='categorical_crossentropy',\n",
        "              optimizer=optimizer,\n",
        "              metrics=['accuracy'])"
      ],
      "execution_count": 9,
      "outputs": [
        {
          "output_type": "stream",
          "text": [
            "Model: \"sequential_1\"\n",
            "_________________________________________________________________\n",
            "Layer (type)                 Output Shape              Param #   \n",
            "=================================================================\n",
            "conv2d_1 (Conv2D)            (None, 26, 26, 64)        640       \n",
            "_________________________________________________________________\n",
            "batch_normalization_1 (Batch (None, 26, 26, 64)        256       \n",
            "_________________________________________________________________\n",
            "conv2d_2 (Conv2D)            (None, 24, 24, 64)        36928     \n",
            "_________________________________________________________________\n",
            "batch_normalization_2 (Batch (None, 24, 24, 64)        256       \n",
            "_________________________________________________________________\n",
            "conv2d_3 (Conv2D)            (None, 24, 24, 64)        102464    \n",
            "_________________________________________________________________\n",
            "batch_normalization_3 (Batch (None, 24, 24, 64)        256       \n",
            "_________________________________________________________________\n",
            "max_pooling2d_1 (MaxPooling2 (None, 12, 12, 64)        0         \n",
            "_________________________________________________________________\n",
            "dropout_1 (Dropout)          (None, 12, 12, 64)        0         \n",
            "_________________________________________________________________\n",
            "conv2d_4 (Conv2D)            (None, 10, 10, 128)       73856     \n",
            "_________________________________________________________________\n",
            "batch_normalization_4 (Batch (None, 10, 10, 128)       512       \n",
            "_________________________________________________________________\n",
            "conv2d_5 (Conv2D)            (None, 8, 8, 128)         147584    \n",
            "_________________________________________________________________\n",
            "batch_normalization_5 (Batch (None, 8, 8, 128)         512       \n",
            "_________________________________________________________________\n",
            "conv2d_6 (Conv2D)            (None, 8, 8, 128)         409728    \n",
            "_________________________________________________________________\n",
            "batch_normalization_6 (Batch (None, 8, 8, 128)         512       \n",
            "_________________________________________________________________\n",
            "max_pooling2d_2 (MaxPooling2 (None, 4, 4, 128)         0         \n",
            "_________________________________________________________________\n",
            "dropout_2 (Dropout)          (None, 4, 4, 128)         0         \n",
            "_________________________________________________________________\n",
            "conv2d_7 (Conv2D)            (None, 2, 2, 256)         295168    \n",
            "_________________________________________________________________\n",
            "batch_normalization_7 (Batch (None, 2, 2, 256)         1024      \n",
            "_________________________________________________________________\n",
            "max_pooling2d_3 (MaxPooling2 (None, 1, 1, 256)         0         \n",
            "_________________________________________________________________\n",
            "dropout_3 (Dropout)          (None, 1, 1, 256)         0         \n",
            "_________________________________________________________________\n",
            "flatten_1 (Flatten)          (None, 256)               0         \n",
            "_________________________________________________________________\n",
            "dense_1 (Dense)              (None, 256)               65792     \n",
            "_________________________________________________________________\n",
            "batch_normalization_8 (Batch (None, 256)               1024      \n",
            "_________________________________________________________________\n",
            "dense_2 (Dense)              (None, 128)               32896     \n",
            "_________________________________________________________________\n",
            "batch_normalization_9 (Batch (None, 128)               512       \n",
            "_________________________________________________________________\n",
            "dense_3 (Dense)              (None, 10)                1290      \n",
            "=================================================================\n",
            "Total params: 1,171,210\n",
            "Trainable params: 1,168,778\n",
            "Non-trainable params: 2,432\n",
            "_________________________________________________________________\n"
          ],
          "name": "stdout"
        }
      ]
    },
    {
      "cell_type": "code",
      "metadata": {
        "id": "AXOKsGTa_-uN",
        "colab_type": "code",
        "outputId": "05c6378e-b552-454e-b863-996b74c2318c",
        "colab": {
          "base_uri": "https://localhost:8080/",
          "height": 1000
        }
      },
      "source": [
        "learning_rate_reduction = ReduceLROnPlateau(monitor='val_loss', \n",
        "                                            patience=200,\n",
        "                                            verbose=1,\n",
        "                                            factor=0.2)\n",
        "\n",
        "es = EarlyStopping(monitor='val_loss', mode='min', verbose=1, patience=200)\n",
        "\n",
        "history = model.fit_generator(train_datagen.flow(x_train, y_train, batch_size=batch_size),\n",
        "                              steps_per_epoch=50,\n",
        "                              epochs=epochs,\n",
        "                              validation_data=valid_datagen.flow(x_valid, y_valid),\n",
        "                              validation_steps=50,\n",
        "                              callbacks=[learning_rate_reduction, es])"
      ],
      "execution_count": 10,
      "outputs": [
        {
          "output_type": "stream",
          "text": [
            "Epoch 1/50\n",
            "50/50 [==============================] - 21s 424ms/step - loss: 0.7860 - accuracy: 0.7325 - val_loss: 2.6254 - val_accuracy: 0.1394\n",
            "Epoch 2/50\n",
            "50/50 [==============================] - 14s 275ms/step - loss: 0.2241 - accuracy: 0.9271 - val_loss: 6.6380 - val_accuracy: 0.1813\n",
            "Epoch 3/50\n",
            "50/50 [==============================] - 14s 274ms/step - loss: 0.1476 - accuracy: 0.9527 - val_loss: 10.3274 - val_accuracy: 0.0962\n",
            "Epoch 4/50\n",
            "50/50 [==============================] - 14s 275ms/step - loss: 0.1099 - accuracy: 0.9644 - val_loss: 21.7412 - val_accuracy: 0.0846\n",
            "Epoch 5/50\n",
            "50/50 [==============================] - 14s 272ms/step - loss: 0.0801 - accuracy: 0.9751 - val_loss: 16.8389 - val_accuracy: 0.0956\n",
            "Epoch 6/50\n",
            "50/50 [==============================] - 14s 272ms/step - loss: 0.0744 - accuracy: 0.9768 - val_loss: 16.6259 - val_accuracy: 0.1013\n",
            "Epoch 7/50\n",
            "50/50 [==============================] - 14s 271ms/step - loss: 0.0634 - accuracy: 0.9802 - val_loss: 25.2728 - val_accuracy: 0.0881\n",
            "Epoch 8/50\n",
            "50/50 [==============================] - 14s 274ms/step - loss: 0.0563 - accuracy: 0.9813 - val_loss: 27.8793 - val_accuracy: 0.1042\n",
            "Epoch 9/50\n",
            "50/50 [==============================] - 14s 273ms/step - loss: 0.0550 - accuracy: 0.9830 - val_loss: 14.8092 - val_accuracy: 0.1600\n",
            "Epoch 10/50\n",
            "50/50 [==============================] - 14s 271ms/step - loss: 0.0491 - accuracy: 0.9844 - val_loss: 16.6519 - val_accuracy: 0.0744\n",
            "Epoch 11/50\n",
            "50/50 [==============================] - 13s 270ms/step - loss: 0.0483 - accuracy: 0.9848 - val_loss: 6.1995 - val_accuracy: 0.2450\n",
            "Epoch 12/50\n",
            "50/50 [==============================] - 14s 273ms/step - loss: 0.0435 - accuracy: 0.9856 - val_loss: 0.1624 - val_accuracy: 0.9426\n",
            "Epoch 13/50\n",
            "50/50 [==============================] - 14s 270ms/step - loss: 0.0412 - accuracy: 0.9868 - val_loss: 0.0307 - val_accuracy: 0.9869\n",
            "Epoch 14/50\n",
            "50/50 [==============================] - 14s 274ms/step - loss: 0.0392 - accuracy: 0.9877 - val_loss: 9.6999e-04 - val_accuracy: 0.9906\n",
            "Epoch 15/50\n",
            "50/50 [==============================] - 14s 271ms/step - loss: 0.0396 - accuracy: 0.9871 - val_loss: 5.6787e-04 - val_accuracy: 0.9937\n",
            "Epoch 16/50\n",
            "50/50 [==============================] - 14s 272ms/step - loss: 0.0372 - accuracy: 0.9877 - val_loss: 6.6153e-04 - val_accuracy: 0.9956\n",
            "Epoch 17/50\n",
            "50/50 [==============================] - 13s 268ms/step - loss: 0.0357 - accuracy: 0.9884 - val_loss: 0.0014 - val_accuracy: 0.9944\n",
            "Epoch 18/50\n",
            "50/50 [==============================] - 13s 268ms/step - loss: 0.0354 - accuracy: 0.9887 - val_loss: 0.0032 - val_accuracy: 0.9925\n",
            "Epoch 19/50\n",
            "50/50 [==============================] - 14s 272ms/step - loss: 0.0339 - accuracy: 0.9896 - val_loss: 0.2303 - val_accuracy: 0.9962\n",
            "Epoch 20/50\n",
            "50/50 [==============================] - 14s 275ms/step - loss: 0.0353 - accuracy: 0.9884 - val_loss: 9.5509e-05 - val_accuracy: 0.9944\n",
            "Epoch 21/50\n",
            "50/50 [==============================] - 13s 269ms/step - loss: 0.0338 - accuracy: 0.9896 - val_loss: 0.0083 - val_accuracy: 0.9925\n",
            "Epoch 22/50\n",
            "50/50 [==============================] - 13s 270ms/step - loss: 0.0310 - accuracy: 0.9900 - val_loss: 3.1973e-04 - val_accuracy: 0.9944\n",
            "Epoch 23/50\n",
            "50/50 [==============================] - 14s 272ms/step - loss: 0.0303 - accuracy: 0.9902 - val_loss: 0.0053 - val_accuracy: 0.9987\n",
            "Epoch 24/50\n",
            "50/50 [==============================] - 13s 265ms/step - loss: 0.0303 - accuracy: 0.9904 - val_loss: 6.1401e-04 - val_accuracy: 0.9944\n",
            "Epoch 25/50\n",
            "50/50 [==============================] - 14s 271ms/step - loss: 0.0316 - accuracy: 0.9898 - val_loss: 0.3500 - val_accuracy: 0.9619\n",
            "Epoch 26/50\n",
            "50/50 [==============================] - 14s 271ms/step - loss: 0.0295 - accuracy: 0.9903 - val_loss: 4.5128e-04 - val_accuracy: 0.9962\n",
            "Epoch 27/50\n",
            "50/50 [==============================] - 14s 270ms/step - loss: 0.0274 - accuracy: 0.9909 - val_loss: 0.0087 - val_accuracy: 0.9962\n",
            "Epoch 28/50\n",
            "50/50 [==============================] - 13s 267ms/step - loss: 0.0288 - accuracy: 0.9912 - val_loss: 0.0016 - val_accuracy: 0.9962\n",
            "Epoch 29/50\n",
            "50/50 [==============================] - 14s 270ms/step - loss: 0.0271 - accuracy: 0.9917 - val_loss: 0.0017 - val_accuracy: 0.9925\n",
            "Epoch 30/50\n",
            "50/50 [==============================] - 13s 269ms/step - loss: 0.0283 - accuracy: 0.9911 - val_loss: 6.2612e-04 - val_accuracy: 0.9950\n",
            "Epoch 31/50\n",
            "50/50 [==============================] - 13s 270ms/step - loss: 0.0271 - accuracy: 0.9913 - val_loss: 0.0079 - val_accuracy: 0.9975\n",
            "Epoch 32/50\n",
            "50/50 [==============================] - 14s 275ms/step - loss: 0.0261 - accuracy: 0.9916 - val_loss: 0.3059 - val_accuracy: 0.9969\n",
            "Epoch 33/50\n",
            "50/50 [==============================] - 14s 271ms/step - loss: 0.0269 - accuracy: 0.9910 - val_loss: 1.3601e-04 - val_accuracy: 0.9962\n",
            "Epoch 34/50\n",
            "50/50 [==============================] - 14s 271ms/step - loss: 0.0235 - accuracy: 0.9926 - val_loss: 9.6181e-06 - val_accuracy: 0.9981\n",
            "Epoch 35/50\n",
            "50/50 [==============================] - 13s 269ms/step - loss: 0.0242 - accuracy: 0.9920 - val_loss: 2.2987e-05 - val_accuracy: 0.9912\n",
            "Epoch 36/50\n",
            "50/50 [==============================] - 13s 268ms/step - loss: 0.0238 - accuracy: 0.9921 - val_loss: 9.5643e-05 - val_accuracy: 0.9975\n",
            "Epoch 37/50\n",
            "50/50 [==============================] - 13s 270ms/step - loss: 0.0239 - accuracy: 0.9923 - val_loss: 2.0584e-04 - val_accuracy: 0.9956\n",
            "Epoch 38/50\n",
            "50/50 [==============================] - 14s 273ms/step - loss: 0.0243 - accuracy: 0.9921 - val_loss: 1.0637e-04 - val_accuracy: 0.9949\n",
            "Epoch 39/50\n",
            "50/50 [==============================] - 13s 268ms/step - loss: 0.0238 - accuracy: 0.9921 - val_loss: 4.3242e-05 - val_accuracy: 0.9969\n",
            "Epoch 40/50\n",
            "50/50 [==============================] - 13s 270ms/step - loss: 0.0258 - accuracy: 0.9913 - val_loss: 6.5117e-06 - val_accuracy: 0.9962\n",
            "Epoch 41/50\n",
            "50/50 [==============================] - 14s 270ms/step - loss: 0.0247 - accuracy: 0.9922 - val_loss: 0.0053 - val_accuracy: 0.9987\n",
            "Epoch 42/50\n",
            "50/50 [==============================] - 13s 270ms/step - loss: 0.0225 - accuracy: 0.9929 - val_loss: 3.8227e-05 - val_accuracy: 0.9962\n",
            "Epoch 43/50\n",
            "50/50 [==============================] - 13s 268ms/step - loss: 0.0230 - accuracy: 0.9928 - val_loss: 3.9688e-04 - val_accuracy: 0.9987\n",
            "Epoch 44/50\n",
            "50/50 [==============================] - 14s 271ms/step - loss: 0.0224 - accuracy: 0.9929 - val_loss: 0.0445 - val_accuracy: 0.9987\n",
            "Epoch 45/50\n",
            "50/50 [==============================] - 13s 266ms/step - loss: 0.0227 - accuracy: 0.9925 - val_loss: 1.9680e-04 - val_accuracy: 0.9956\n",
            "Epoch 46/50\n",
            "50/50 [==============================] - 14s 271ms/step - loss: 0.0215 - accuracy: 0.9926 - val_loss: 0.0028 - val_accuracy: 0.9949\n",
            "Epoch 47/50\n",
            "50/50 [==============================] - 13s 268ms/step - loss: 0.0193 - accuracy: 0.9937 - val_loss: 0.2620 - val_accuracy: 0.9975\n",
            "Epoch 48/50\n",
            "50/50 [==============================] - 13s 268ms/step - loss: 0.0228 - accuracy: 0.9927 - val_loss: 5.0939e-05 - val_accuracy: 0.9944\n",
            "Epoch 49/50\n",
            "50/50 [==============================] - 14s 272ms/step - loss: 0.0208 - accuracy: 0.9936 - val_loss: 5.0906e-05 - val_accuracy: 0.9981\n",
            "Epoch 50/50\n",
            "50/50 [==============================] - 13s 269ms/step - loss: 0.0209 - accuracy: 0.9931 - val_loss: 5.3679e-05 - val_accuracy: 0.9969\n"
          ],
          "name": "stdout"
        }
      ]
    },
    {
      "cell_type": "code",
      "metadata": {
        "id": "kWsCzjtwBB_8",
        "colab_type": "code",
        "outputId": "b57c5eaa-4d12-42a2-ad0b-be1edad4e02f",
        "colab": {
          "base_uri": "https://localhost:8080/",
          "height": 573
        }
      },
      "source": [
        "# Plot training & validation accuracy values\n",
        "plt.plot(history.history['accuracy'])\n",
        "plt.plot(history.history['val_accuracy'])\n",
        "plt.title('Model accuracy')\n",
        "plt.ylabel('Accuracy')\n",
        "plt.xlabel('Epoch')\n",
        "plt.legend(['Train', 'Test'], loc='upper left')\n",
        "plt.show()\n",
        "\n",
        "# Plot training & validation loss values\n",
        "plt.plot(history.history['loss'])\n",
        "plt.plot(history.history['val_loss'])\n",
        "plt.title('Model loss')\n",
        "plt.ylabel('Loss')\n",
        "plt.xlabel('Epoch')\n",
        "plt.legend(['Train', 'Test'], loc='upper left')\n",
        "plt.show()\n"
      ],
      "execution_count": 11,
      "outputs": [
        {
          "output_type": "display_data",
          "data": {
            "image/png": "[encoded data removed]",
            "text/plain": [
              "<Figure size 432x288 with 1 Axes>"
            ]
          },
          "metadata": {
            "tags": [],
            "needs_background": "light"
          }
        },
        {
          "output_type": "display_data",
          "data": {
            "image/png": "[encoded data removed]",
            "text/plain": [
              "<Figure size 432x288 with 1 Axes>"
            ]
          },
          "metadata": {
            "tags": [],
            "needs_background": "light"
          }
        }
      ]
    },
    {
      "cell_type": "code",
      "metadata": {
        "id": "6pfhmg6h5cXp",
        "colab_type": "code",
        "colab": {
          "base_uri": "https://localhost:8080/",
          "height": 761
        },
        "outputId": "a5c8fa67-d917-4a8c-d119-5dcf110748e3"
      },
      "source": [
        "for i in range(1,4):\n",
        "  pixels = train.iloc[i-1:i,1:]\n",
        "\n",
        "# Make those columns into a array of 8-bits pixels\n",
        "        # This array will be of 1D with length 784\n",
        "        # The pixel intensity values are integers from 0 to 255\n",
        "  pixels = np.array(pixels, dtype='uint8')\n",
        "\n",
        "        # Reshape the array into 28 x 28 array (2-dimensional array)\n",
        "  pixels = pixels.reshape((28, 28))\n",
        "\n",
        "        # Plot\n",
        "\n",
        "  plt.imshow(pixels, cmap='gray')\n",
        "  plt.show()\n"
      ],
      "execution_count": 36,
      "outputs": [
        {
          "output_type": "display_data",
          "data": {
            "image/png": "[encoded data removed]",
            "text/plain": [
              "<Figure size 432x288 with 1 Axes>"
            ]
          },
          "metadata": {
            "tags": [],
            "needs_background": "light"
          }
        },
        {
          "output_type": "display_data",
          "data": {
            "image/png": "[encoded data removed]",
            "text/plain": [
              "<Figure size 432x288 with 1 Axes>"
            ]
          },
          "metadata": {
            "tags": [],
            "needs_background": "light"
          }
        },
        {
          "output_type": "display_data",
          "data": {
            "image/png": "[encoded data removed]",
            "text/plain": [
              "<Figure size 432x288 with 1 Axes>"
            ]
          },
          "metadata": {
            "tags": [],
            "needs_background": "light"
          }
        }
      ]
    },
    {
      "cell_type": "code",
      "metadata": {
        "id": "da0cs8yR69Re",
        "colab_type": "code",
        "colab": {
          "base_uri": "https://localhost:8080/",
          "height": 67
        },
        "outputId": "c8c1c1c9-0e26-4d37-ca8b-29833b68b085"
      },
      "source": [
        "for i in range(1,4):\n",
        "  print(model.predict_classes(x[i-1:i,:]))"
      ],
      "execution_count": 38,
      "outputs": [
        {
          "output_type": "stream",
          "text": [
            "[0]\n",
            "[1]\n",
            "[2]\n"
          ],
          "name": "stdout"
        }
      ]
    }
  ]
}